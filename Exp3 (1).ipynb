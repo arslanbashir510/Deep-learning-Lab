{
  "nbformat": 4,
  "nbformat_minor": 0,
  "metadata": {
    "colab": {
      "provenance": []
    },
    "kernelspec": {
      "name": "python3",
      "display_name": "Python 3"
    },
    "language_info": {
      "name": "python"
    }
  },
  "cells": [
    {
      "cell_type": "markdown",
      "source": [
        "Importing Libraries and Defining Data"
      ],
      "metadata": {
        "id": "8fGEhPw0hgJS"
      }
    },
    {
      "cell_type": "code",
      "source": [
        "import numpy as np\n",
        "\n",
        "# Ground truth labels (one-hot encoded)\n",
        "y_true = np.array([\n",
        "    [1, 0, 0],  # Sample 1: Class 1\n",
        "    [0, 1, 0],  # Sample 2: Class 2\n",
        "    [0, 0, 1]   # Sample 3: Class 3\n",
        "])\n",
        "\n",
        "# Model predictions (logits)\n",
        "logits = np.array([\n",
        "    [2.0, 1.0, 0.1],  # Sample 1\n",
        "    [0.5, 2.5, 0.2],  # Sample 2\n",
        "    [0.1, 0.2, 3.0]   # Sample 3\n",
        "])\n",
        "\n",
        "print(\"Ground Truth Labels (y_true):\")\n",
        "print(y_true)\n",
        "print(\"\\nModel Predictions (Logits):\")\n",
        "print(logits)"
      ],
      "metadata": {
        "colab": {
          "base_uri": "https://localhost:8080/"
        },
        "id": "JNCDzfTohjzC",
        "outputId": "a7839500-65f7-4e0a-85e9-2dde21c3a971"
      },
      "execution_count": 18,
      "outputs": [
        {
          "output_type": "stream",
          "name": "stdout",
          "text": [
            "Ground Truth Labels (y_true):\n",
            "[[1 0 0]\n",
            " [0 1 0]\n",
            " [0 0 1]]\n",
            "\n",
            "Model Predictions (Logits):\n",
            "[[2.  1.  0.1]\n",
            " [0.5 2.5 0.2]\n",
            " [0.1 0.2 3. ]]\n"
          ]
        }
      ]
    },
    {
      "cell_type": "markdown",
      "source": [
        "Defining the Softmax Function"
      ],
      "metadata": {
        "id": "ZudsuH8Chm_a"
      }
    },
    {
      "cell_type": "code",
      "source": [
        "# Softmax function\n",
        "def softmax(x):\n",
        "    exp_x = np.exp(x - np.max(x, axis=-1, keepdims=True))  # Numerical stability\n",
        "    return exp_x / np.sum(exp_x, axis=-1, keepdims=True)\n",
        "\n",
        "print(\"Softmax function has been defined.\")"
      ],
      "metadata": {
        "colab": {
          "base_uri": "https://localhost:8080/"
        },
        "id": "1GY6EI0ghpTB",
        "outputId": "e7536208-8c19-412f-bd38-51c16c0a4dcd"
      },
      "execution_count": 19,
      "outputs": [
        {
          "output_type": "stream",
          "name": "stdout",
          "text": [
            "Softmax function has been defined.\n"
          ]
        }
      ]
    },
    {
      "cell_type": "markdown",
      "source": [
        "Computing Softmax Probabilities"
      ],
      "metadata": {
        "id": "DHstA04NhxJp"
      }
    },
    {
      "cell_type": "code",
      "source": [
        "# Compute softmax probabilities\n",
        "probs = softmax(logits)\n",
        "print(\"Softmax Probabilities:\")\n",
        "print(probs)"
      ],
      "metadata": {
        "colab": {
          "base_uri": "https://localhost:8080/"
        },
        "id": "zS6Cms6mh6yZ",
        "outputId": "60bd6b6d-19ea-479f-d272-bc665e0ade95"
      },
      "execution_count": 20,
      "outputs": [
        {
          "output_type": "stream",
          "name": "stdout",
          "text": [
            "Softmax Probabilities:\n",
            "[[0.65900114 0.24243297 0.09856589]\n",
            " [0.10953053 0.80932725 0.08114221]\n",
            " [0.04931133 0.05449744 0.89619123]]\n"
          ]
        }
      ]
    },
    {
      "cell_type": "markdown",
      "source": [
        "Computing the Log of Softmax Probabilities"
      ],
      "metadata": {
        "id": "mMQNQpIYh-yZ"
      }
    },
    {
      "cell_type": "code",
      "source": [
        "# Compute log(probs)\n",
        "log_probs = np.log(probs)\n",
        "print(\"\\nLog of Softmax Probabilities:\")\n",
        "print(log_probs)"
      ],
      "metadata": {
        "colab": {
          "base_uri": "https://localhost:8080/"
        },
        "id": "WWRViOKDiCFJ",
        "outputId": "1867f40a-ef81-475a-fbe0-5be5e43c522d"
      },
      "execution_count": 21,
      "outputs": [
        {
          "output_type": "stream",
          "name": "stdout",
          "text": [
            "\n",
            "Log of Softmax Probabilities:\n",
            "[[-0.41703002 -1.41703002 -2.31703002]\n",
            " [-2.21155193 -0.21155193 -2.51155193]\n",
            " [-3.00960146 -2.90960146 -0.10960146]]\n"
          ]
        }
      ]
    },
    {
      "cell_type": "markdown",
      "source": [
        "Calculating y_true * log(probs)"
      ],
      "metadata": {
        "id": "tV0cUR2IiEnx"
      }
    },
    {
      "cell_type": "code",
      "source": [
        "# Compute y_true * log(probs)\n",
        "y_true_log_probs = y_true * log_probs\n",
        "print(\"\\n y_true * log(probs):\")\n",
        "print(y_true_log_probs)"
      ],
      "metadata": {
        "colab": {
          "base_uri": "https://localhost:8080/"
        },
        "id": "4S58qDO_iJPh",
        "outputId": "1df418e8-8c44-40b5-d9be-5519608321d0"
      },
      "execution_count": 22,
      "outputs": [
        {
          "output_type": "stream",
          "name": "stdout",
          "text": [
            "\n",
            " y_true * log(probs):\n",
            "[[-0.41703002 -0.         -0.        ]\n",
            " [-0.         -0.21155193 -0.        ]\n",
            " [-0.         -0.         -0.10960146]]\n"
          ]
        }
      ]
    },
    {
      "cell_type": "markdown",
      "source": [
        "Computing Cross-Entropy Loss for Each Sample"
      ],
      "metadata": {
        "id": "VM-jN6WBiL7w"
      }
    },
    {
      "cell_type": "code",
      "source": [
        "# Compute CE loss for each sample\n",
        "ce_loss = -np.sum(y_true_log_probs, axis=-1)\n",
        "print(\"\\nCE Loss per Sample:\")\n",
        "print(ce_loss)"
      ],
      "metadata": {
        "colab": {
          "base_uri": "https://localhost:8080/"
        },
        "id": "xnJhI7yxiOMg",
        "outputId": "a2fba0a0-a0ad-4d33-a12f-0990cd3c4399"
      },
      "execution_count": 23,
      "outputs": [
        {
          "output_type": "stream",
          "name": "stdout",
          "text": [
            "\n",
            "CE Loss per Sample:\n",
            "[0.41703002 0.21155193 0.10960146]\n"
          ]
        }
      ]
    },
    {
      "cell_type": "markdown",
      "source": [
        "Computing Average Cross-Entropy Loss for the Dataset"
      ],
      "metadata": {
        "id": "ZPiqUUPbiQWx"
      }
    },
    {
      "cell_type": "code",
      "source": [
        "# Average CE loss for the dataset\n",
        "avg_ce_loss = np.mean(ce_loss)\n",
        "print(\"\\nAverage CE Loss for the Dataset:\")\n",
        "print(avg_ce_loss)"
      ],
      "metadata": {
        "colab": {
          "base_uri": "https://localhost:8080/"
        },
        "id": "9pxNu5gAiUgJ",
        "outputId": "80cf469f-bdb1-4d9d-d47b-3f061ef85ea8"
      },
      "execution_count": 24,
      "outputs": [
        {
          "output_type": "stream",
          "name": "stdout",
          "text": [
            "\n",
            "Average CE Loss for the Dataset:\n",
            "0.24606113655369521\n"
          ]
        }
      ]
    }
  ]
}