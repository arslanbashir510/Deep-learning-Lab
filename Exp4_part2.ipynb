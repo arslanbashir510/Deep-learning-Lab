{
  "nbformat": 4,
  "nbformat_minor": 0,
  "metadata": {
    "colab": {
      "provenance": []
    },
    "kernelspec": {
      "name": "python3",
      "display_name": "Python 3"
    },
    "language_info": {
      "name": "python"
    }
  },
  "cells": [
    {
      "cell_type": "markdown",
      "source": [
        "Imports and Activation Functions"
      ],
      "metadata": {
        "id": "KHvvD8u_eRNA"
      }
    },
    {
      "cell_type": "code",
      "source": [
        "import numpy as np\n",
        "\n",
        "# Define the sigmoid function and its derivative\n",
        "def sigmoid(x):\n",
        "    return 1 / (1 + np.exp(-x))\n",
        "\n",
        "def sigmoid_derivative(x):\n",
        "    return sigmoid(x) * (1 - sigmoid(x))\n",
        "\n",
        "# Define the ReLU function and its derivative\n",
        "def relu(x):\n",
        "    return np.maximum(0, x)\n",
        "\n",
        "def relu_derivative(x):\n",
        "    return np.where(x > 0, 1, 0)\n",
        "\n",
        "print(\"✅ Functions defined: sigmoid, sigmoid_derivative, relu, relu_derivative\")"
      ],
      "metadata": {
        "colab": {
          "base_uri": "https://localhost:8080/"
        },
        "id": "hgRW_7FOeRto",
        "outputId": "a1f164c6-c2d3-4bfb-cda3-0ebb08c8e1cf"
      },
      "execution_count": 11,
      "outputs": [
        {
          "output_type": "stream",
          "name": "stdout",
          "text": [
            "✅ Functions defined: sigmoid, sigmoid_derivative, relu, relu_derivative\n"
          ]
        }
      ]
    },
    {
      "cell_type": "markdown",
      "source": [
        "Initialize Network Parameters"
      ],
      "metadata": {
        "id": "CEkxFmOieUup"
      }
    },
    {
      "cell_type": "code",
      "source": [
        "# Initialize weights and biases (same for both networks)\n",
        "w1, b1 = 0.5, 0\n",
        "w2, b2 = 0.5, 0\n",
        "w3, b3 = 0.5, 0\n",
        "\n",
        "# Input and true output\n",
        "x = 1\n",
        "y = 1\n",
        "\n",
        "print(f\"Weights: w1={w1}, w2={w2}, w3={w3}\")\n",
        "print(f\"Input: x={x}, Target: y={y}\")"
      ],
      "metadata": {
        "colab": {
          "base_uri": "https://localhost:8080/"
        },
        "id": "rE6LS7xDeYF4",
        "outputId": "6f2f9e14-7f5e-4470-8b4c-cc7a05a86327"
      },
      "execution_count": 12,
      "outputs": [
        {
          "output_type": "stream",
          "name": "stdout",
          "text": [
            "Weights: w1=0.5, w2=0.5, w3=0.5\n",
            "Input: x=1, Target: y=1\n"
          ]
        }
      ]
    },
    {
      "cell_type": "markdown",
      "source": [
        "Sigmoid Network Forward Pass"
      ],
      "metadata": {
        "id": "F3X2RZtxea-o"
      }
    },
    {
      "cell_type": "code",
      "source": [
        "print(\"=== Sigmoid Network ===\")\n",
        "\n",
        "# Forward pass (Sigmoid)\n",
        "z1_sigmoid = w1 * x + b1\n",
        "a1_sigmoid = sigmoid(z1_sigmoid)\n",
        "\n",
        "z2_sigmoid = w2 * a1_sigmoid + b2\n",
        "a2_sigmoid = sigmoid(z2_sigmoid)\n",
        "\n",
        "z3_sigmoid = w3 * a2_sigmoid + b3\n",
        "y_pred_sigmoid = sigmoid(z3_sigmoid)\n",
        "\n",
        "# Loss\n",
        "loss_sigmoid = 0.5 * (y - y_pred_sigmoid) ** 2\n",
        "\n",
        "print(\"\\nForward Pass:\")\n",
        "print(f\"Layer 1 Output (a1): {a1_sigmoid:.4f}\")\n",
        "print(f\"Layer 2 Output (a2): {a2_sigmoid:.4f}\")\n",
        "print(f\"Predicted Output (y_pred): {y_pred_sigmoid:.4f}\")\n",
        "print(f\"Loss: {loss_sigmoid:.4f}\")"
      ],
      "metadata": {
        "colab": {
          "base_uri": "https://localhost:8080/"
        },
        "id": "QuF58bAcedsA",
        "outputId": "4e02944b-0ff8-4bbb-e12e-835ac650e1dd"
      },
      "execution_count": 13,
      "outputs": [
        {
          "output_type": "stream",
          "name": "stdout",
          "text": [
            "=== Sigmoid Network ===\n",
            "\n",
            "Forward Pass:\n",
            "Layer 1 Output (a1): 0.6225\n",
            "Layer 2 Output (a2): 0.5772\n",
            "Predicted Output (y_pred): 0.5717\n",
            "Loss: 0.0917\n"
          ]
        }
      ]
    },
    {
      "cell_type": "markdown",
      "source": [
        "Sigmoid Network Backward Pass"
      ],
      "metadata": {
        "id": "98vVZctMeil4"
      }
    },
    {
      "cell_type": "code",
      "source": [
        "# Backward pass (Sigmoid)\n",
        "dL_dy_pred_sigmoid = -(y - y_pred_sigmoid)\n",
        "\n",
        "# Output layer\n",
        "dy_pred_dz3_sigmoid = sigmoid_derivative(z3_sigmoid)\n",
        "dL_dw3_sigmoid = dL_dy_pred_sigmoid * dy_pred_dz3_sigmoid * a2_sigmoid\n",
        "\n",
        "# Layer 2\n",
        "dL_da2_sigmoid = dL_dy_pred_sigmoid * dy_pred_dz3_sigmoid * w3\n",
        "da2_dz2_sigmoid = sigmoid_derivative(z2_sigmoid)\n",
        "dL_dw2_sigmoid = dL_da2_sigmoid * da2_dz2_sigmoid * a1_sigmoid\n",
        "\n",
        "# Layer 1\n",
        "dL_da1_sigmoid = dL_da2_sigmoid * da2_dz2_sigmoid * w2\n",
        "da1_dz1_sigmoid = sigmoid_derivative(z1_sigmoid)\n",
        "dL_dw1_sigmoid = dL_da1_sigmoid * da1_dz1_sigmoid * x\n",
        "\n",
        "print(\"\\nBackward Pass (Gradients):\")\n",
        "print(f\"Gradient w.r.t. w3: {dL_dw3_sigmoid:.6f}\")\n",
        "print(f\"Gradient w.r.t. w2: {dL_dw2_sigmoid:.6f}\")\n",
        "print(f\"Gradient w.r.t. w1: {dL_dw1_sigmoid:.6f}\")"
      ],
      "metadata": {
        "colab": {
          "base_uri": "https://localhost:8080/"
        },
        "id": "hH3LEaaFelJA",
        "outputId": "b80200b5-3975-49cd-baf4-29d83cf605cf"
      },
      "execution_count": 14,
      "outputs": [
        {
          "output_type": "stream",
          "name": "stdout",
          "text": [
            "\n",
            "Backward Pass (Gradients):\n",
            "Gradient w.r.t. w3: -0.060540\n",
            "Gradient w.r.t. w2: -0.007967\n",
            "Gradient w.r.t. w1: -0.001504\n"
          ]
        }
      ]
    },
    {
      "cell_type": "markdown",
      "source": [
        "ReLU Network Forward Pass\n",
        "python"
      ],
      "metadata": {
        "id": "BbEU0AjieoMB"
      }
    },
    {
      "cell_type": "code",
      "source": [
        "print(\"\\n=== ReLU Network ===\")\n",
        "\n",
        "# Forward pass (ReLU)\n",
        "z1_relu = w1 * x + b1\n",
        "a1_relu = relu(z1_relu)\n",
        "\n",
        "z2_relu = w2 * a1_relu + b2\n",
        "a2_relu = relu(z2_relu)\n",
        "\n",
        "z3_relu = w3 * a2_relu + b3\n",
        "y_pred_relu = relu(z3_relu)\n",
        "\n",
        "# Loss\n",
        "loss_relu = 0.5 * (y - y_pred_relu) ** 2\n",
        "\n",
        "print(\"\\nForward Pass:\")\n",
        "print(f\"Layer 1 Output (a1): {a1_relu:.4f}\")\n",
        "print(f\"Layer 2 Output (a2): {a2_relu:.4f}\")\n",
        "print(f\"Predicted Output (y_pred): {y_pred_relu:.4f}\")\n",
        "print(f\"Loss: {loss_relu:.4f}\")"
      ],
      "metadata": {
        "colab": {
          "base_uri": "https://localhost:8080/"
        },
        "id": "GkakNrzGeqiY",
        "outputId": "67ede681-6d3e-4538-8b32-2b76612cb918"
      },
      "execution_count": 15,
      "outputs": [
        {
          "output_type": "stream",
          "name": "stdout",
          "text": [
            "\n",
            "=== ReLU Network ===\n",
            "\n",
            "Forward Pass:\n",
            "Layer 1 Output (a1): 0.5000\n",
            "Layer 2 Output (a2): 0.2500\n",
            "Predicted Output (y_pred): 0.1250\n",
            "Loss: 0.3828\n"
          ]
        }
      ]
    },
    {
      "cell_type": "markdown",
      "source": [
        "ReLU Network Backward Pass"
      ],
      "metadata": {
        "id": "mxTlVJPtet3P"
      }
    },
    {
      "cell_type": "code",
      "source": [
        "# Backward pass (ReLU)\n",
        "dL_dy_pred_relu = -(y - y_pred_relu)\n",
        "\n",
        "# Output layer\n",
        "dy_pred_dz3_relu = relu_derivative(z3_relu)\n",
        "dL_dw3_relu = dL_dy_pred_relu * dy_pred_dz3_relu * a2_relu\n",
        "\n",
        "# Layer 2\n",
        "dL_da2_relu = dL_dy_pred_relu * dy_pred_dz3_relu * w3\n",
        "da2_dz2_relu = relu_derivative(z2_relu)\n",
        "dL_dw2_relu = dL_da2_relu * da2_dz2_relu * a1_relu\n",
        "\n",
        "# Layer 1\n",
        "dL_da1_relu = dL_da2_relu * da2_dz2_relu * w2\n",
        "da1_dz1_relu = relu_derivative(z1_relu)\n",
        "dL_dw1_relu = dL_da1_relu * da1_dz1_relu * x\n",
        "\n",
        "print(\"\\nBackward Pass (Gradients):\")\n",
        "print(f\"Gradient w.r.t. w3: {dL_dw3_relu:.6f}\")\n",
        "print(f\"Gradient w.r.t. w2: {dL_dw2_relu:.6f}\")\n",
        "print(f\"Gradient w.r.t. w1: {dL_dw1_relu:.6f}\")"
      ],
      "metadata": {
        "colab": {
          "base_uri": "https://localhost:8080/"
        },
        "id": "TblKFfv_ewL4",
        "outputId": "d5d84ba3-b668-4b09-a14f-5d18dd222ad4"
      },
      "execution_count": 16,
      "outputs": [
        {
          "output_type": "stream",
          "name": "stdout",
          "text": [
            "\n",
            "Backward Pass (Gradients):\n",
            "Gradient w.r.t. w3: -0.218750\n",
            "Gradient w.r.t. w2: -0.218750\n",
            "Gradient w.r.t. w1: -0.218750\n"
          ]
        }
      ]
    },
    {
      "cell_type": "markdown",
      "source": [
        "Comparison of Gradients"
      ],
      "metadata": {
        "id": "URX_y-5Cey3H"
      }
    },
    {
      "cell_type": "code",
      "source": [
        "print(\"\\n=== Gradient Comparison ===\")\n",
        "print(\"Sigmoid Gradients:\")\n",
        "print(f\"  w3: {dL_dw3_sigmoid:.6f} (Vanishes to near-zero!)\")\n",
        "print(f\"  w2: {dL_dw2_sigmoid:.6f}\")\n",
        "print(f\"  w1: {dL_dw1_sigmoid:.6f}\")\n",
        "\n",
        "print(\"\\nReLU Gradients:\")\n",
        "print(f\"  w3: {dL_dw3_relu:.6f} (Stable for active neurons)\")\n",
        "print(f\"  w2: {dL_dw2_relu:.6f}\")\n",
        "print(f\"  w1: {dL_dw1_relu:.6f}\")"
      ],
      "metadata": {
        "colab": {
          "base_uri": "https://localhost:8080/"
        },
        "id": "yGT-gO3pe1Hf",
        "outputId": "ffdbdc09-8313-458d-b956-37453319a637"
      },
      "execution_count": 17,
      "outputs": [
        {
          "output_type": "stream",
          "name": "stdout",
          "text": [
            "\n",
            "=== Gradient Comparison ===\n",
            "Sigmoid Gradients:\n",
            "  w3: -0.060540 (Vanishes to near-zero!)\n",
            "  w2: -0.007967\n",
            "  w1: -0.001504\n",
            "\n",
            "ReLU Gradients:\n",
            "  w3: -0.218750 (Stable for active neurons)\n",
            "  w2: -0.218750\n",
            "  w1: -0.218750\n"
          ]
        }
      ]
    }
  ]
}